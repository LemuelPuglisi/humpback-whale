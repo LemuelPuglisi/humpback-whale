{
 "cells": [
  {
   "cell_type": "code",
   "execution_count": 2,
   "id": "5212f89a",
   "metadata": {},
   "outputs": [
    {
     "data": {
      "text/html": [
       "<div>\n",
       "<style scoped>\n",
       "    .dataframe tbody tr th:only-of-type {\n",
       "        vertical-align: middle;\n",
       "    }\n",
       "\n",
       "    .dataframe tbody tr th {\n",
       "        vertical-align: top;\n",
       "    }\n",
       "\n",
       "    .dataframe thead th {\n",
       "        text-align: right;\n",
       "    }\n",
       "</style>\n",
       "<table border=\"1\" class=\"dataframe\">\n",
       "  <thead>\n",
       "    <tr style=\"text-align: right;\">\n",
       "      <th></th>\n",
       "      <th>Image</th>\n",
       "      <th>Id</th>\n",
       "    </tr>\n",
       "  </thead>\n",
       "  <tbody>\n",
       "    <tr>\n",
       "      <th>3</th>\n",
       "      <td>00050a15a.jpg</td>\n",
       "      <td>new_whale</td>\n",
       "    </tr>\n",
       "    <tr>\n",
       "      <th>4</th>\n",
       "      <td>0005c1ef8.jpg</td>\n",
       "      <td>new_whale</td>\n",
       "    </tr>\n",
       "    <tr>\n",
       "      <th>5</th>\n",
       "      <td>0006e997e.jpg</td>\n",
       "      <td>new_whale</td>\n",
       "    </tr>\n",
       "    <tr>\n",
       "      <th>7</th>\n",
       "      <td>000f0f2bf.jpg</td>\n",
       "      <td>new_whale</td>\n",
       "    </tr>\n",
       "    <tr>\n",
       "      <th>11</th>\n",
       "      <td>001d7450c.jpg</td>\n",
       "      <td>new_whale</td>\n",
       "    </tr>\n",
       "  </tbody>\n",
       "</table>\n",
       "</div>"
      ],
      "text/plain": [
       "            Image         Id\n",
       "3   00050a15a.jpg  new_whale\n",
       "4   0005c1ef8.jpg  new_whale\n",
       "5   0006e997e.jpg  new_whale\n",
       "7   000f0f2bf.jpg  new_whale\n",
       "11  001d7450c.jpg  new_whale"
      ]
     },
     "execution_count": 2,
     "metadata": {},
     "output_type": "execute_result"
    }
   ],
   "source": [
    "import pandas as pd\n",
    "\n",
    "df = pd.read_csv('/data/research-data/humpback-whale/humpback-whale-identification/__/train.csv')\n",
    "new_whale_df = df[ df.Id == 'new_whale' ]\n",
    "new_whale_df.head()"
   ]
  },
  {
   "cell_type": "markdown",
   "id": "787e5685",
   "metadata": {},
   "source": [
    "Let's compute the `new_whale` class ratio:"
   ]
  },
  {
   "cell_type": "code",
   "execution_count": 3,
   "id": "2eb944c1",
   "metadata": {},
   "outputs": [
    {
     "data": {
      "text/plain": [
       "0.3810575292772367"
      ]
     },
     "execution_count": 3,
     "metadata": {},
     "output_type": "execute_result"
    }
   ],
   "source": [
    "new_whale_ratio = len(new_whale_df) / len(df)\n",
    "new_whale_ratio"
   ]
  },
  {
   "cell_type": "markdown",
   "id": "4b21d9ec",
   "metadata": {},
   "source": [
    "Compute the number of new whales to add to each set"
   ]
  },
  {
   "cell_type": "code",
   "execution_count": 7,
   "id": "79874a8e",
   "metadata": {},
   "outputs": [
    {
     "data": {
      "text/plain": [
       "(1187, 441)"
      ]
     },
     "execution_count": 7,
     "metadata": {},
     "output_type": "execute_result"
    }
   ],
   "source": [
    "test_size = 3116\n",
    "n_test_new_whales = int(test_size * new_whale_ratio)\n",
    "\n",
    "valid_size = 1158\n",
    "n_valid_new_whales = int(valid_size * new_whale_ratio)\n",
    "\n",
    "n_test_new_whales, n_valid_new_whales"
   ]
  },
  {
   "cell_type": "markdown",
   "id": "653a2040",
   "metadata": {},
   "source": [
    "Sample the whales to add"
   ]
  },
  {
   "cell_type": "code",
   "execution_count": 8,
   "id": "37252026",
   "metadata": {},
   "outputs": [],
   "source": [
    "import random\n",
    "\n",
    "new_whales_images = new_whale_df.Image.to_list()\n",
    "test_new_whales = random.sample(new_whales_images, n_test_new_whales)\n",
    "\n",
    "new_whales_images_ = list(set(new_whales_images).difference(test_new_whales))\n",
    "valid_new_whales = random.sample(new_whales_images_, n_valid_new_whales)"
   ]
  },
  {
   "cell_type": "markdown",
   "id": "927e39c6",
   "metadata": {},
   "source": [
    "Let's append the new whales into the csv"
   ]
  },
  {
   "cell_type": "code",
   "execution_count": 12,
   "id": "0b2ba787",
   "metadata": {},
   "outputs": [],
   "source": [
    "import shutil\n",
    "\n",
    "shutil.copy('../annotations/valid.csv', '../annotations/valid_nw.csv')\n",
    "with open('../annotations/valid_nw.csv', 'a+') as f:\n",
    "    for i, nw in enumerate(list(valid_new_whales)):\n",
    "        idx = valid_size + i\n",
    "        f.write(f'{idx},{nw},new_whale,-1\\n')\n",
    "        \n",
    "shutil.copy('../annotations/test.csv', '../annotations/test_nw.csv')\n",
    "with open('../annotations/test_nw.csv', 'a+') as f:\n",
    "    for i, nw in enumerate(list(test_new_whales)):\n",
    "        idx = test_size + i\n",
    "        f.write(f'{idx},{nw},new_whale,-1\\n')"
   ]
  },
  {
   "cell_type": "markdown",
   "id": "4bf8206f",
   "metadata": {},
   "source": [
    "Let's try to find the optimal threshold"
   ]
  },
  {
   "cell_type": "code",
   "execution_count": 22,
   "id": "03621e3e",
   "metadata": {},
   "outputs": [
    {
     "name": "stdout",
     "output_type": "stream",
     "text": [
      "\n"
     ]
    }
   ],
   "source": [
    "import faiss\n",
    "import torch\n",
    "import numpy as np\n",
    "\n",
    "from humpback.utils import images_to_embeddings\n",
    "from humpback.models import get_resnet\n",
    "from humpback.dataset import HumpbackDataset\n",
    "from humpback.transforms import get_data_loading\n",
    "from humpback.metrics import map_per_set\n",
    "\n",
    "\n",
    "valid_set = HumpbackDataset(images_dir='/data/research-data/humpback-whale/humpback-whale-identification/', \n",
    "                           csv_path='../annotations/valid_nw.csv', \n",
    "                           transforms=get_data_loading())\n",
    "\n",
    "device = 'cuda'\n",
    "encoder = get_resnet()\n",
    "encoder.load_state_dict(torch.load('/data/Progetti/humpback-identification/cosface_ckpts/ep-90.ckpt'))\n",
    "encoder.eval()\n",
    "print()"
   ]
  },
  {
   "cell_type": "code",
   "execution_count": 39,
   "id": "248c450d",
   "metadata": {},
   "outputs": [
    {
     "name": "stdout",
     "output_type": "stream",
     "text": [
      "Extracting Whales ground truth IDs.\n",
      "Generating the embeddings.\n"
     ]
    }
   ],
   "source": [
    "device='cuda'\n",
    "embedding_dim=2048\n",
    "testset = valid_set\n",
    "    \n",
    "print('Extracting Whales ground truth IDs.')\n",
    "whales = testset.annotations.label.to_numpy()\n",
    "\n",
    "print('Generating the embeddings.')\n",
    "encoder.eval()\n",
    "encoder = encoder.to(device)\n",
    "\n",
    "embeddings = images_to_embeddings(encoder, testset, device=device, batch_size=32).astype(np.float32)\n",
    "embeddings = embeddings / np.linalg.norm(embeddings, axis=1, keepdims=True)"
   ]
  },
  {
   "cell_type": "code",
   "execution_count": 73,
   "id": "a415d463",
   "metadata": {},
   "outputs": [],
   "source": [
    "def compute_map(embeddings, threshold):\n",
    "    global embedding_dim, device\n",
    "    faiss_index = faiss.IndexFlatIP(embedding_dim)\n",
    "    faiss_index.add(embeddings) # type: ignore\n",
    "    similarities, results = faiss_index.search(embeddings, 6) # type: ignore\n",
    "    similarities = similarities[:, 1:6]\n",
    "    predicted_whales = whales[ results[:, 1:6] ]\n",
    "    \n",
    "    for res, sim in zip(predicted_whales, similarities):\n",
    "        for i, s in enumerate(sim):\n",
    "            if s < threshold:\n",
    "                tmp = res[i]\n",
    "                res[i] = -1\n",
    "                if (i < 4): res[i+1] = tmp\n",
    "                break\n",
    "\n",
    "    return map_per_set(whales, predicted_whales)\n",
    "\n",
    "thresholds_x_map = [ (t, compute_map(embeddings, t)) for t in np.linspace(0, 1, 50) ] "
   ]
  },
  {
   "cell_type": "code",
   "execution_count": 79,
   "id": "ef768db4",
   "metadata": {
    "scrolled": false
   },
   "outputs": [
    {
     "data": {
      "image/png": "[encoded data removed]",
      "text/plain": [
       "<Figure size 1080x504 with 1 Axes>"
      ]
     },
     "metadata": {},
     "output_type": "display_data"
    },
    {
     "name": "stdout",
     "output_type": "stream",
     "text": [
      "0.5510204081632653 0.8447884094225557\n"
     ]
    }
   ],
   "source": [
    "import matplotlib.pyplot as plt\n",
    "import seaborn as sns\n",
    "\n",
    "sns.set()\n",
    "\n",
    "x = [ x[0] for x in thresholds_x_map ]\n",
    "y = [ x[1] for x in thresholds_x_map ]\n",
    "\n",
    "optimal_threshold = x[np.argmax(y)]\n",
    "optimal_threshold_map = np.max(y)\n",
    "\n",
    "fig, ax = plt.subplots(figsize=(15, 7))\n",
    "\n",
    "ax.plot(x, y)\n",
    "ax.scatter(x,y)\n",
    "ax.axvline(optimal_threshold, color='#bf4342')\n",
    "ax.title.set_text('Selection of the optimal threshold')\n",
    "ax.set_xlabel('threshold')\n",
    "ax.set_ylabel('mAP@5')\n",
    "plt.show()\n",
    "print(optimal_threshold, optimal_threshold_map)"
   ]
  },
  {
   "cell_type": "code",
   "execution_count": 94,
   "id": "5f928705",
   "metadata": {
    "scrolled": false
   },
   "outputs": [
    {
     "data": {
      "image/png": "[encoded data removed]",
      "text/plain": [
       "<Figure size 1080x504 with 1 Axes>"
      ]
     },
     "metadata": {},
     "output_type": "display_data"
    }
   ],
   "source": [
    "top1_wid = similarities[ whales != -1, 0 ]\n",
    "top1_new = similarities[ whales == -1, 0 ]\n",
    "\n",
    "fig, ax = plt.subplots(figsize=(15, 7))\n",
    "ax.hist(top1_wid, bins=100, range=(0, 1), label='identified whales')\n",
    "ax.hist(top1_new, bins=100, range=(0, 1), label='new whales')\n",
    "ax.axvline(optimal_threshold, color='#bf4342')\n",
    "ax.title.set_text('1° rank similarities distribution')\n",
    "ax.legend()\n",
    "plt.show()"
   ]
  }
 ],
 "metadata": {
  "kernelspec": {
   "display_name": "Python 3",
   "language": "python",
   "name": "python3"
  },
  "language_info": {
   "codemirror_mode": {
    "name": "ipython",
    "version": 3
   },
   "file_extension": ".py",
   "mimetype": "text/x-python",
   "name": "python",
   "nbconvert_exporter": "python",
   "pygments_lexer": "ipython3",
   "version": "3.9.13"
  }
 },
 "nbformat": 4,
 "nbformat_minor": 5
}
